{
 "cells": [
  {
   "cell_type": "code",
   "execution_count": 1,
   "id": "6606f620-a0e8-4e72-895f-688966509393",
   "metadata": {},
   "outputs": [],
   "source": [
    "import numpy as np\n",
    "import matplotlib.pyplot as plt\n",
    "import optimap as om\n",
    "import ca_cardiac_model                                                                   \n",
    "import math\n",
    "import random\n"
   ]
  },
  {
   "cell_type": "code",
   "execution_count": 2,
   "id": "679b0ff7-47f1-4f16-aea5-c87188736c1c",
   "metadata": {},
   "outputs": [],
   "source": [
    "# Set parameters from the provided defaults\n",
    "lx = 100  # Assuming a small grid size, adjust as needed\n",
    "ly = 100  # Assuming a small grid size, adjust as needed\n",
    "nstim = 2  # Number of stimuli, adjust as needed\n",
    "iseed = 823323  # Initial random number seed\n",
    "rbcl = 1000.0  # Pacing rate\n",
    "dfu = 0.0001  # Effective voltage diffusion coefficient\n",
    "\n",
    "# Ionic current parameters\n",
    "gicai = 2.20  # Strength of LCC\n",
    "gtos = 0.04  # Strength of ito slow\n",
    "gtof = 0.15  # Strength of ito fast\n",
    "gnacai = 1.5  # Strength of NCX\n",
    "\n",
    "zxr = 0.09  # Controls degree of Ca-induced inactivation\n",
    "\n",
    "nbt = 4000  # Total number of RyR2 clusters\n",
    "cxinit = 1200.0  # Initial SR load\n",
    "\n",
    "# Sodium concentration calculation\n",
    "xmx = -2.0/250.0\n",
    "xnai = xmx * 520.0 + 16.0  # Constant Na concentration\n",
    "\n",
    "# Constants\n",
    "xnao = 136.0  # External Na (mM)\n",
    "xki = 140.0  # Internal K (mM)\n",
    "xko = 5.40  # External K (mM)\n",
    "cao = 1.8  # External Ca (mM)\n",
    "\n",
    "temp = 308.0  # Temperature (K)\n",
    "xxr = 8.314  # Gas constant\n",
    "xf = 96.485  # Faraday's constant\n",
    "\n",
    "dt = .5  # Time step\n",
    "parallel = False # RK4\n",
    "\n",
    "mod_output = 10 \n",
    "\n",
    "nstep = rbcl/dt \n",
    "\n",
    "max_buffer_size = math.ceil((nstep*nstim) /mod_output) + (nstim)\n",
    "\n",
    "\n",
    "def stimulus_function(ix, iy, time):\n",
    "    # Example: Stimulate a 10x10 corner for the first 1ms\n",
    "    if time < 1.0 and ix < 5 and iy < 5:\n",
    "        return 80.0\n",
    "    else:\n",
    "        return 0.0\n"
   ]
  },
  {
   "cell_type": "code",
   "execution_count": 3,
   "id": "56adc09a-a2f5-467c-86bd-45e081ac1a3c",
   "metadata": {},
   "outputs": [],
   "source": [
    "# Global variables to maintain state between calls\n",
    "last_time_checked = -1\n",
    "stimulus_centers = []\n",
    "stimulus_active = False\n",
    "stimulus_start_time = 0\n",
    "\n",
    "def localized_random_stimulus(ix, iy, time, radius=5, stim_duration=1.0, time_prob=0.01):\n",
    "    global last_time_checked, stimulus_centers, stimulus_active, stimulus_start_time\n",
    "    \n",
    "    # Check if we're at a new time point\n",
    "    if abs(time - last_time_checked) > 1e-6:  # Floating point comparison\n",
    "        last_time_checked = time\n",
    "        \n",
    "        # If stimulus is active, check if it should end\n",
    "        if stimulus_active and (time - stimulus_start_time > stim_duration):\n",
    "            stimulus_active = False\n",
    "        \n",
    "        # Randomly decide to start a new stimulus\n",
    "        if not stimulus_active and random.random() < time_prob:\n",
    "            stimulus_active = True\n",
    "            stimulus_start_time = time\n",
    "            # Choose a random center point\n",
    "            center_x = random.randint(1, lx)\n",
    "            center_y = random.randint(1, ly)\n",
    "            stimulus_centers = [(center_x, center_y)]\n",
    "    \n",
    "    # Check if current point is within the stimulus radius of any center\n",
    "    \n",
    "    if stimulus_active:\n",
    "        #print(stimulus_active)\n",
    "        for center_x, center_y in stimulus_centers:\n",
    "            distance = ((ix - center_x)**2 + (iy - center_y)**2)**0.5\n",
    "            if distance <= radius:\n",
    "                return 80.0  # Return stimulus current\n",
    "    \n",
    "    return 0.0  # No stimulus"
   ]
  },
  {
   "cell_type": "code",
   "execution_count": 1,
   "id": "0ef0476e-3178-4f10-8939-efee451e1808",
   "metadata": {},
   "outputs": [
    {
     "ename": "",
     "evalue": "",
     "output_type": "error",
     "traceback": [
      "\u001b[1;31mThe Kernel crashed while executing code in the current cell or a previous cell. \n",
      "\u001b[1;31mPlease review the code in the cell(s) to identify a possible cause of the failure. \n",
      "\u001b[1;31mClick <a href='https://aka.ms/vscodeJupyterKernelCrash'>here</a> for more info. \n",
      "\u001b[1;31mView Jupyter <a href='command:jupyter.viewOutput'>log</a> for further details."
     ]
    },
    {
     "ename": "",
     "evalue": "",
     "output_type": "error",
     "traceback": [
      "\u001b[1;31mThe Kernel crashed while executing code in the current cell or a previous cell. \n",
      "\u001b[1;31mPlease review the code in the cell(s) to identify a possible cause of the failure. \n",
      "\u001b[1;31mClick <a href='https://aka.ms/vscodeJupyterKernelCrash'>here</a> for more info. \n",
      "\u001b[1;31mView Jupyter <a href='command:jupyter.viewOutput'>log</a> for further details."
     ]
    }
   ],
   "source": [
    "import ca_cardiac_model\n",
    "print(ca_cardiac_model)\n",
    "\n",
    "v_out, cb_out, csrb_out, ci_out, t_out, num_steps = ca_cardiac_model.cardiac_simulation(\n",
    "        lx, ly, nstim, iseed, rbcl, dfu, gicai, gtos, gtof, gnacai, zxr, nbt, \n",
    "        cxinit, xnai, xnao, xki, xko, cao, temp, xxr, xf, dt,\n",
    "        max_buffer_size,mod_output,parallel,localized_random_stimulus\n",
    "    )\n"
   ]
  },
  {
   "cell_type": "code",
   "execution_count": null,
   "id": "ffd2592f-ff26-4e28-8505-245ccdf5fcbb",
   "metadata": {},
   "outputs": [],
   "source": []
  }
 ],
 "metadata": {
  "kernelspec": {
   "display_name": "conda_heart_modeling",
   "language": "python",
   "name": "python3"
  },
  "language_info": {
   "codemirror_mode": {
    "name": "ipython",
    "version": 3
   },
   "file_extension": ".py",
   "mimetype": "text/x-python",
   "name": "python",
   "nbconvert_exporter": "python",
   "pygments_lexer": "ipython3",
   "version": "3.13.2"
  }
 },
 "nbformat": 4,
 "nbformat_minor": 5
}
